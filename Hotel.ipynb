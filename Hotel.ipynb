{
 "cells": [
  {
   "cell_type": "markdown",
   "metadata": {},
   "source": [
    "    Импортировать данные из \"https://www.absentdata.com/wp-content/uploads/2021/05/hotel_revenue_historical_full.xlsx\" и ответить на вопросы\n",
    "\n",
    "      1) Растет ли выручка? \n",
    "              - создать колонку 'revenue' \n",
    "      2) Необходимо ли увеличить число парковочных мест? \n",
    "      3) Посчитать\\визуализировать основные метрики: выручка, adr, % гостей с авто, средняя скидка \n",
    "      4) Сделать отчет в PowerBI"
   ]
  },
  {
   "cell_type": "code",
   "execution_count": null,
   "metadata": {},
   "outputs": [],
   "source": [
    "# создать колонку \"revenue\"\n",
    "\n",
    "with hotels as (\n",
    "select * from dbo.['2018$']\n",
    "union\n",
    "select * from dbo.['2019$']\n",
    "unioin\n",
    "select * from dbo.['2020$'])\n",
    "\n",
    "select \n",
    "arrival_date_year,\n",
    "hotel\n",
    "round(sum((stays_in_week_nights+stays_in_weekend_nights)*adr),2) as revenue\n",
    "from hotels\n",
    "group by arrival_data_year,hotel \n",
    "\n",
    "# соединить все таблицы\n",
    "select * from hotels\n",
    "left join dbo.market_segment$\n",
    "on hotel.market_segment = market_segment$.market_segment\n",
    "left join dbo.meal_cost$\n",
    "on meal_cost$.meal = hotels.meal"
   ]
  },
  {
   "cell_type": "code",
   "execution_count": 6,
   "metadata": {
    "scrolled": false
   },
   "outputs": [
    {
     "data": {
      "text/html": [
       "\n",
       "        <iframe\n",
       "            width=\"1000\"\n",
       "            height=\"800\"\n",
       "            src=\"https://app.powerbi.com/reportEmbed?reportId=2517d388-7287-4824-a37a-121ebae98b3a&autoAuth=true&ctid=5d4d7abe-8d19-41b7-9d8c-1a5b2af5dc17&config=eyJjbHVzdGVyVXJsIjoiaHR0cHM6Ly93YWJpLXdlc3QtZXVyb3BlLXJlZGlyZWN0LmFuYWx5c2lzLndpbmRvd3MubmV0LyJ9\"\n",
       "            frameborder=\"0\"\n",
       "            allowfullscreen\n",
       "        ></iframe>\n",
       "        "
      ],
      "text/plain": [
       "<IPython.lib.display.IFrame at 0x127a718bca0>"
      ]
     },
     "execution_count": 6,
     "metadata": {},
     "output_type": "execute_result"
    }
   ],
   "source": [
    "from IPython.display import IFrame\n",
    "\n",
    "powerBiEmbed = 'https://app.powerbi.com/reportEmbed?reportId=2517d388-7287-4824-a37a-121ebae98b3a&autoAuth=true&ctid=5d4d7abe-8d19-41b7-9d8c-1a5b2af5dc17&config=eyJjbHVzdGVyVXJsIjoiaHR0cHM6Ly93YWJpLXdlc3QtZXVyb3BlLXJlZGlyZWN0LmFuYWx5c2lzLndpbmRvd3MubmV0LyJ9'\n",
    "\n",
    "IFrame(powerBiEmbed, width=1000, height=800)"
   ]
  },
  {
   "cell_type": "markdown",
   "metadata": {},
   "source": [
    "    Результаты:\n",
    "                - выручка росла в рамках тренда все 3 года (пики в августе и декабре\\январе) и в конце предоставленного периода наблюдается резкое падение выручки, что, скорее всего, связано с пандемией;\n",
    "                - нет достаточных фактов полагать, что необходимо увеличить количество парковочных мест: доля посетителей, которым необходима парковка, не растет."
   ]
  }
 ],
 "metadata": {
  "kernelspec": {
   "display_name": "Python3.6Test",
   "language": "python",
   "name": "python3.6test"
  },
  "language_info": {
   "codemirror_mode": {
    "name": "ipython",
    "version": 3
   },
   "file_extension": ".py",
   "mimetype": "text/x-python",
   "name": "python",
   "nbconvert_exporter": "python",
   "pygments_lexer": "ipython3",
   "version": "3.8.5"
  }
 },
 "nbformat": 4,
 "nbformat_minor": 4
}
